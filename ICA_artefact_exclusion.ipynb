{
 "cells": [
  {
   "cell_type": "markdown",
   "metadata": {},
   "source": [
    "### Branje podatkov in metainformacij o EEG meritvi"
   ]
  },
  {
   "cell_type": "code",
   "execution_count": 54,
   "metadata": {},
   "outputs": [
    {
     "name": "stdout",
     "output_type": "stream",
     "text": [
      "Reading file: /home/erik/Documents/Projects/Faculty/human_computer_communication/seminarska_2/data/files/S002/S002R04.edf\n",
      "Extracting EDF parameters from /home/erik/Documents/Projects/Faculty/human_computer_communication/seminarska_2/data/files/S002/S002R04.edf...\n",
      "EDF file detected\n",
      "Setting channel info structure...\n",
      "Creating raw.info structure...\n",
      "No channels: 64\n"
     ]
    }
   ],
   "source": [
    "import numpy as np\n",
    "from sklearn.decomposition import FastICA\n",
    "import matplotlib.pyplot as plt\n",
    "import mne\n",
    "import pandas as pd\n",
    "from plotly import tools\n",
    "import plotly.graph_objects as go\n",
    "import re\n",
    "from IPython.display import Image\n",
    "import scipy as sc\n",
    "from scipy import signal\n",
    "import math\n",
    "\n",
    "SUB_NUM = 2\n",
    "EXP_NUM = 4\n",
    "DATA_ROOT = \"/home/erik/Documents/Projects/Faculty/human_computer_communication/seminarska_2/data/files/\"\n",
    "IMAGE_SAVE_PATH = \"/home/erik/Documents/Projects/Faculty/human_computer_communication/seminarska_2/images/\"\n",
    "\n",
    "SUBJECT  = f\"S00{SUB_NUM}/S00{SUB_NUM}R0{EXP_NUM}.edf\"\n",
    "FILE = DATA_ROOT+SUBJECT\n",
    "print(f\"Reading file: {FILE}\")\n",
    "data = mne.io.read_raw_edf(FILE,stim_channel=\"anotations\")\n",
    "# data.info\n",
    "ch_names = data.ch_names\n",
    "np_data = data.get_data()\n",
    "sampling_freq = data.info[\"sfreq\"]\n",
    "no_channesl = np_data.shape[0]\n",
    "no_samples = np_data.shape[1]\n",
    "recorded_time = no_samples/sampling_freq\n",
    "\n",
    "print(f\"No channels: {no_channesl}\")\n"
   ]
  },
  {
   "cell_type": "markdown",
   "metadata": {},
   "source": [
    "### Definicija funkcij za izrisovanje grafov\n",
    "Za izrisovanje grafov uporabljamo knjižnico Plotly. Grafi se shranjujejo v mapo, ki je definirana v spremenljivki IMAGE_SAVE_PATH."
   ]
  },
  {
   "cell_type": "code",
   "execution_count": 55,
   "metadata": {},
   "outputs": [],
   "source": [
    "def plot_eeg(data,ch_names,filename):\n",
    "    \n",
    "    no_channesl = data.shape[0]\n",
    "    no_samples = data.shape[1]\n",
    "    \n",
    "    fig = go.Figure()\n",
    "    increment = 0    \n",
    "    y_increments = []\n",
    "    for i in range(no_channesl):\n",
    "        fig.add_trace(go.Scatter(x=list(range(no_samples)),y=data[i] + increment,mode=\"lines\",name=f\"{ch_names[i]}\"))\n",
    "        y_increments.append(increment)\n",
    "        increment += 200E-6\n",
    "\n",
    "\n",
    "    fig.update_layout(showlegend=False)\n",
    "    fig.update_layout(\n",
    "        xaxis = dict(\n",
    "            tickmode = 'array',\n",
    "            tickvals = [x* sampling_freq for x in range(int(np.ceil(recorded_time))) if x % 5 == 0],\n",
    "            ticktext = [f\"{x}s\" for x in range(int(np.ceil(recorded_time))) if x % 5 == 0],\n",
    "            gridcolor = \"rgb(159, 197, 232)\",        \n",
    "            zeroline = False\n",
    "        )\n",
    "    )\n",
    "    fig.update_layout(\n",
    "        yaxis = dict(\n",
    "            tickmode = 'array',\n",
    "            tickvals = y_increments,\n",
    "            ticktext = ch_names,\n",
    "            gridcolor = \"rgb(159, 197, 232)\",\n",
    "            zeroline = False,\n",
    "            showgrid = False,\n",
    "            tickfont=dict(family='Rockwell', color='crimson', size=5)\n",
    "\n",
    "        )\n",
    "    )\n",
    "    fig.write_image(filename)\n",
    "\n",
    "def plot_ica_components(components,filename):\n",
    "    fig = go.Figure()\n",
    "    increment = 0\n",
    "    dif = np.amax(components)\n",
    "    y_increments = []\n",
    "    for i in range(no_channesl):\n",
    "        fig.add_trace(go.Scatter(x=list(range(no_samples)),y=components.T[i] + increment,mode=\"lines\"))\n",
    "        y_increments.append(increment)\n",
    "        increment += dif\n",
    "\n",
    "\n",
    "    fig.update_layout(showlegend=False)\n",
    "    fig.update_layout(\n",
    "        xaxis = dict(\n",
    "            tickmode = 'array',\n",
    "            tickvals = [x* sampling_freq for x in range(int(np.ceil(recorded_time))) if x % 5 == 0],\n",
    "            ticktext = [f\"{x}s\" for x in range(int(np.ceil(recorded_time))) if x % 5 == 0],\n",
    "            gridcolor = \"rgb(159, 197, 232)\",        \n",
    "            zeroline = False\n",
    "        )\n",
    "    )\n",
    "    fig.update_layout(\n",
    "        yaxis = dict(\n",
    "            tickmode = 'array',\n",
    "            tickvals = y_increments,\n",
    "            ticktext = [f\"ICA{x}\" for x in range(no_channesl)],\n",
    "            gridcolor = \"rgb(159, 197, 232)\",\n",
    "            zeroline = False,\n",
    "            showgrid = False,\n",
    "            tickfont=dict(family='Rockwell', color='crimson', size=5)\n",
    "\n",
    "        )\n",
    "    )\n",
    "\n",
    "    fig.write_image(filename)"
   ]
  },
  {
   "cell_type": "markdown",
   "metadata": {},
   "source": [
    "### Izris grafa vhodnih podatkov"
   ]
  },
  {
   "cell_type": "code",
   "execution_count": 56,
   "metadata": {},
   "outputs": [],
   "source": [
    "plot_eeg(np_data,ch_names,\"images/test.svg\")"
   ]
  },
  {
   "cell_type": "markdown",
   "metadata": {},
   "source": [
    "### Izračun ANK "
   ]
  },
  {
   "cell_type": "code",
   "execution_count": 57,
   "metadata": {},
   "outputs": [
    {
     "name": "stdout",
     "output_type": "stream",
     "text": [
      "Reading 0 ... 19679  =      0.000 ...   122.994 secs...\n",
      "Filtering raw data in 1 contiguous segment\n",
      "Setting up high-pass filter at 1 Hz\n",
      "\n",
      "FIR filter parameters\n",
      "---------------------\n",
      "Designing a one-pass, zero-phase, non-causal highpass filter:\n",
      "- Windowed time-domain design (firwin) method\n",
      "- Hamming window with 0.0194 passband ripple and 53 dB stopband attenuation\n",
      "- Lower passband edge: 1.00\n",
      "- Lower transition bandwidth: 1.00 Hz (-6 dB cutoff frequency: 0.50 Hz)\n",
      "- Filter length: 529 samples (3.306 sec)\n",
      "\n"
     ]
    },
    {
     "data": {
      "text/plain": [
       "(19680, 64)"
      ]
     },
     "execution_count": 57,
     "metadata": {},
     "output_type": "execute_result"
    }
   ],
   "source": [
    "filt_raw = data.copy()\n",
    "filt_raw.load_data().filter(l_freq=1., h_freq=None)\n",
    "np_filtered = filt_raw.get_data()\n",
    "\n",
    "\n",
    "ica = FastICA(n_components=64,algorithm=\"parallel\",whiten=True,max_iter=1000,tol=0.0001)\n",
    "ica.fit_transform(np_filtered.T)\n",
    "components = ica.transform(np_filtered.T)\n"
   ]
  },
  {
   "cell_type": "markdown",
   "metadata": {},
   "source": [
    "### Izris grafa signala v prostoru komponent"
   ]
  },
  {
   "cell_type": "code",
   "execution_count": 58,
   "metadata": {},
   "outputs": [],
   "source": [
    "plot_ica_components(components,\"images/test_ica.svg\")"
   ]
  },
  {
   "cell_type": "markdown",
   "metadata": {},
   "source": [
    "### Izbor ANK komponent ki so rezultat mežikanja\n",
    "za signale posameznih komponent preverimo kako korelirajo z signali frontalnih elektrod Fp1., Fp2. in Fpz. .Pri navedenih frontalnih elektrodah je intenziteta artefaktov namreč najvelja."
   ]
  },
  {
   "cell_type": "code",
   "execution_count": 59,
   "metadata": {},
   "outputs": [
    {
     "name": "stdout",
     "output_type": "stream",
     "text": [
      "(3, 19680)\n"
     ]
    }
   ],
   "source": [
    "picks = mne.pick_channels(ch_names,include=[\"Fp1.\",\"Fp2.\",\"Fpz.\"])\n",
    "eye_channels = data.get_data(picks=picks)\n",
    "\n",
    "b, a = signal.butter(5, 0.005)\n",
    "averaged_eye = []\n",
    "for sig in eye_channels:\n",
    "    y = signal.filtfilt(b, a, sig)\n",
    "#     y = smooth(sig,3)\n",
    "#     y = signal.savgol_filter(sig,11,3)    \n",
    "    averaged_eye.append(y)  \n",
    "\n",
    "averaged_eye = np.array(averaged_eye)\n"
   ]
  },
  {
   "cell_type": "markdown",
   "metadata": {},
   "source": [
    "Kot kompenente, ki jih želimo izključiti vzamemo dve komponenti, ki najbolj pozitivno korelirata s signali frontalnih elektrod ter dve komponenti, ki najbolj negativno korelirata s signalom frontalnih elektrod"
   ]
  },
  {
   "cell_type": "code",
   "execution_count": 60,
   "metadata": {},
   "outputs": [
    {
     "data": {
      "text/plain": [
       "[10, 26, 2, 47]"
      ]
     },
     "execution_count": 60,
     "metadata": {},
     "output_type": "execute_result"
    }
   ],
   "source": [
    "b, a = signal.butter(5, 0.005)\n",
    "pearsons_per_ica = []\n",
    "i = 0\n",
    "for ic in components.T:\n",
    "    n_ica = signal.filtfilt(b, a, ic)\n",
    "    max_ica = [-math.inf,None]\n",
    "    for j in range(eye_channels.shape[0]):\n",
    "        r,p = sc.stats.pearsonr(n_ica,averaged_eye[j])\n",
    "        raux = r\n",
    "        if raux < 0:\n",
    "            raux = -raux\n",
    "        \n",
    "        if(raux>max_ica[0]):\n",
    "            max_ica[0] = r\n",
    "            max_ica[1] = i\n",
    "    pearsons_per_ica.append(max_ica)\n",
    "    i+= 1\n",
    "\n",
    "pearsons_per_ica = sorted(pearsons_per_ica, key=lambda x: x[0])\n",
    "to_exclude = pearsons_per_ica[:2] +  pearsons_per_ica[-2:]\n",
    "to_exclude = [x[1] for x in to_exclude]\n",
    "to_exclude\n"
   ]
  },
  {
   "cell_type": "markdown",
   "metadata": {},
   "source": [
    "Izbrane komponente nadomestimo z ničelnim vektorjeml in rekonstruiramo signal brez artefaktov."
   ]
  },
  {
   "cell_type": "code",
   "execution_count": 61,
   "metadata": {},
   "outputs": [
    {
     "data": {
      "text/plain": [
       "(19680, 64)"
      ]
     },
     "execution_count": 61,
     "metadata": {},
     "output_type": "execute_result"
    }
   ],
   "source": [
    "components.shape\n",
    "comp_copy = np.copy(components)\n",
    "comp_copy[:, to_exclude] = 0\n",
    "restored = ica.inverse_transform(comp_copy)"
   ]
  },
  {
   "cell_type": "markdown",
   "metadata": {},
   "source": [
    "### Izris grafa rekonstruiranega signala"
   ]
  },
  {
   "cell_type": "code",
   "execution_count": 62,
   "metadata": {},
   "outputs": [],
   "source": [
    "plot_eeg(restored.T,ch_names,\"images/test_restored.svg\")"
   ]
  },
  {
   "cell_type": "code",
   "execution_count": 63,
   "metadata": {},
   "outputs": [],
   "source": [
    "# plot_eeg(averaged_eye,[\"Fp1.\",\"Fp2.\",\"Fpz.\"],\"images/test_sub2.svg\")\n",
    "# plot_eeg(eye_channels,[\"Fp1.\",\"Fp2.\",\"Fpz.\"],\"images/test_sub.svg\")\n"
   ]
  }
 ],
 "metadata": {
  "kernelspec": {
   "display_name": "Python 3",
   "language": "python",
   "name": "python3"
  },
  "language_info": {
   "codemirror_mode": {
    "name": "ipython",
    "version": 3
   },
   "file_extension": ".py",
   "mimetype": "text/x-python",
   "name": "python",
   "nbconvert_exporter": "python",
   "pygments_lexer": "ipython3",
   "version": "3.7.5"
  }
 },
 "nbformat": 4,
 "nbformat_minor": 2
}
